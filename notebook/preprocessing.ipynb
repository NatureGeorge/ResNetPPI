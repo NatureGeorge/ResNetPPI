{
 "cells": [
  {
   "cell_type": "code",
   "execution_count": 1,
   "metadata": {},
   "outputs": [],
   "source": [
    "import torch\n",
    "import sys\n",
    "import orjson as json"
   ]
  },
  {
   "cell_type": "code",
   "execution_count": 2,
   "metadata": {},
   "outputs": [],
   "source": [
    "# torch.cuda.is_available(), torch.cuda.device_count()\n",
    "sys.path.append(\"C:/GitWorks/ResNetPPI\")"
   ]
  },
  {
   "cell_type": "code",
   "execution_count": 3,
   "metadata": {},
   "outputs": [],
   "source": [
    "from ResNetPPI.demo_configs import *\n",
    "from ResNetPPI.utils import *\n",
    "\n",
    "DIST_CUTOFF = 20.0\n",
    "MODEL_ID = 0"
   ]
  },
  {
   "cell_type": "code",
   "execution_count": 4,
   "metadata": {},
   "outputs": [],
   "source": [
    "pdb_id = '3wwt'\n",
    "pdb_chain_1 = PDB_CHAIN(pdb_id, '1', 'A', 'A')\n",
    "pdb_chain_2 = PDB_CHAIN(pdb_id, '2', 'B', 'B')\n",
    "pdb_binary_int = PDB_BINARY_CHAIN(pdb_chain_1, pdb_chain_2)\n",
    "pdb_file = \"../data/3wwt.cif.gz\"\n",
    "gemmi_obj = gemmi.read_structure(pdb_file)"
   ]
  },
  {
   "cell_type": "code",
   "execution_count": 5,
   "metadata": {},
   "outputs": [],
   "source": [
    "wdir = Path('../example')\n",
    "for chain in pdb_binary_int:\n",
    "    chain_wdir = wdir/f'{pdb_id}/{chain.struct_asym_id}'\n",
    "    if not chain_wdir.exists():\n",
    "        chain_obj = gemmi_obj[MODEL_ID].get_subchain(chain.struct_asym_id) # chain_obj.make_one_letter_sequence()\n",
    "        entity_seq = gemmi.one_letter_code(gemmi_obj.get_entity(chain.entity_id).full_sequence)\n",
    "        obs_index = to_interval([res_i.label_seq for res_i in chain_obj])\n",
    "        res_idxes, missing_segs = get_res_idx_range(obs_index)\n",
    "        prepare_input_seq_and_folder(chain_wdir,\n",
    "            json.dumps(dict(\n",
    "                pdb_id=pdb_id,\n",
    "                struct_asym_id=chain.struct_asym_id,\n",
    "                res_idxes=res_idxes,\n",
    "                missing_segs=missing_segs)).decode('utf-8'),\n",
    "            entity_seq[chain_obj[0].label_seq-1: chain_obj[-1].label_seq])"
   ]
  },
  {
   "cell_type": "code",
   "execution_count": 6,
   "metadata": {},
   "outputs": [
    {
     "name": "stdout",
     "output_type": "stream",
     "text": [
      "(123, 123, 37) (107, 123, 41)\n"
     ]
    }
   ],
   "source": [
    "xyz_1 = get_representative_xyz(gemmi_obj[MODEL_ID].get_subchain(pdb_binary_int.chain_1.struct_asym_id))\n",
    "xyz_2 = get_representative_xyz(gemmi_obj[MODEL_ID].get_subchain(pdb_binary_int.chain_2.struct_asym_id))\n",
    "idx_1, dist6d_1 = get_dist6d(xyz_1, DIST_CUTOFF)\n",
    "idx_2, dist6d_2 = get_dist6d(xyz_2, DIST_CUTOFF)\n",
    "idx_12, dist6d_12 = get_dist6d_2(xyz_2, xyz_1, DIST_CUTOFF)\n",
    "binned_dist6d_1 = get_bin_map(idx_1, dist6d_1, 0.5, 2, 20, non_contact_at_first=False)\n",
    "binned_dist6d_12 = get_bin_map(idx_12, dist6d_12, 0.5, 0, 20, non_contact_at_first=False)\n",
    "#contact6d_1 = get_contact6d(dist6d_1, idx_1, DIST_CUTOFF, fill_diag=True)\n",
    "#contact6d_2 = get_contact6d(dist6d_2, idx_2, DIST_CUTOFF, fill_diag=True)\n",
    "#contact6d_12 = get_contact6d(dist6d_12, idx_12, DIST_CUTOFF)\n",
    "print(binned_dist6d_1.shape, binned_dist6d_12.shape)"
   ]
  },
  {
   "cell_type": "code",
   "execution_count": 7,
   "metadata": {},
   "outputs": [],
   "source": [
    "msa_file_1 = wdir/pdb_id/pdb_binary_int.chain_1.struct_asym_id/'t000_.msa0.a3m'\n",
    "msa_file_2 = wdir/pdb_id/pdb_binary_int.chain_2.struct_asym_id/'t000_.msa0.a3m'\n",
    "pw_msa_1 = tuple(load_pairwise_aln_from_a3m(msa_file_1))\n",
    "pw_msa_2 = tuple(load_pairwise_aln_from_a3m(msa_file_2))\n",
    "ref_msa_1 = gen_ref_msa_from_pairwise_aln(pw_msa_1)\n",
    "ref_msa_2 = gen_ref_msa_from_pairwise_aln(pw_msa_2)"
   ]
  },
  {
   "cell_type": "code",
   "execution_count": 8,
   "metadata": {},
   "outputs": [
    {
     "data": {
      "text/plain": [
       "554.8145125081019"
      ]
     },
     "execution_count": 8,
     "metadata": {},
     "output_type": "execute_result"
    }
   ],
   "source": [
    "# NOTE: following identity calculation ignore those insertion regions of the homologous sequences\n",
    "iden_score_mat = scipy.spatial.distance.squareform(scipy.spatial.distance.pdist(ref_msa_1, metric=identity_score))\n",
    "np.fill_diagonal(iden_score_mat, 1)\n",
    "iden_eff_mat = iden_score_mat >= 0.8\n",
    "iden_eff_weights = 1/iden_eff_mat.sum(axis=0)\n",
    "M_eff = iden_eff_weights.sum()\n",
    "M_eff"
   ]
  },
  {
   "cell_type": "code",
   "execution_count": 9,
   "metadata": {},
   "outputs": [],
   "source": [
    "# PLOT\n",
    "#plt.figure(figsize=(5, 5))\n",
    "#sns.heatmap(dist6d_12, cmap='Blues', cbar=False, vmin=0, vmax=20)"
   ]
  },
  {
   "cell_type": "markdown",
   "metadata": {},
   "source": [
    "```python\n",
    "from matplotlib.animation import FuncAnimation\n",
    "\n",
    "titles = get_bins_tex(0.5, 0, 20, '$[20,+\\infty)$', non_contact_at_first=False)\n",
    "fig, ax = plt.subplots(figsize=(6, 5))\n",
    "ax.set_aspect('equal')\n",
    "ax.set_title(titles[0])\n",
    "cax = ax.pcolor(binned_dist6d_12[:, :, 0], vmin=0, vmax=1, cmap='Blues')\n",
    "ax.invert_yaxis()\n",
    "#fig.colorbar(cax)\n",
    "def animate(i):\n",
    "    ax.set_title(titles[i])\n",
    "    cax.set_array(binned_dist6d_12[:, :, i].flatten())\n",
    "anim = FuncAnimation(fig, animate, interval=150, frames=binned_dist6d_12.shape[2], repeat=True)\n",
    "fig.show()\n",
    "anim.save(f'./figs/{pdb_id}.{pdb_binary_int.chain_1.struct_asym_id}.{pdb_binary_int.chain_2.struct_asym_id}_dist6d_maps.gif', writer='pillow')\n",
    "# ---\n",
    "titles = get_bins_tex(0.5, 2, 20, non_contact_at_first=False)\n",
    "fig, ax = plt.subplots(figsize=(6, 5))\n",
    "ax.set_aspect('equal')\n",
    "ax.set_title(titles[0])\n",
    "cax = ax.pcolor(binned_dist6d_1[:, :, 0], vmin=0, vmax=1, cmap='Blues')\n",
    "ax.invert_yaxis()\n",
    "#fig.colorbar(cax)\n",
    "def animate(i):\n",
    "    ax.set_title(titles[i])\n",
    "    cax.set_array(binned_dist6d_1[:, :, i].flatten())\n",
    "anim = FuncAnimation(fig, animate, interval=150, frames=binned_dist6d_1.shape[2], repeat=True)\n",
    "fig.show()\n",
    "anim.save(f'./figs/{pdb_id}.{pdb_binary_int.chain_1.struct_asym_id}_dist6d_maps.gif', writer='pillow')\n",
    "\n",
    "```\n",
    "![fig1](../figs/3wwt.A.B_dist6d_maps.gif)\n",
    "![fig1](../figs/3wwt.A_dist6d_maps.gif)"
   ]
  }
 ],
 "metadata": {
  "interpreter": {
   "hash": "2266c607543d224cb119288ea55888d6fda87cc9a4c78c02ed099d39082a76ce"
  },
  "kernelspec": {
   "display_name": "Python 3.7.9 64-bit ('base': conda)",
   "language": "python",
   "name": "python3"
  },
  "language_info": {
   "codemirror_mode": {
    "name": "ipython",
    "version": 3
   },
   "file_extension": ".py",
   "mimetype": "text/x-python",
   "name": "python",
   "nbconvert_exporter": "python",
   "pygments_lexer": "ipython3",
   "version": "3.7.9"
  },
  "orig_nbformat": 4
 },
 "nbformat": 4,
 "nbformat_minor": 2
}
